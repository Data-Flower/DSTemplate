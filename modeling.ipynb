{
 "cells": [
  {
   "cell_type": "code",
   "execution_count": 75,
   "id": "669763a8",
   "metadata": {},
   "outputs": [],
   "source": [
    "import pandas as pd\n",
    "import numpy as np\n",
    "from sklearn.linear_model import LogisticRegression\n",
    "import pickle"
   ]
  },
  {
   "cell_type": "code",
   "execution_count": 77,
   "id": "499919d3",
   "metadata": {},
   "outputs": [
    {
     "name": "stdout",
     "output_type": "stream",
     "text": [
      "The model has been saved to 고구마_특(1등).pickle successfully.\n",
      "The model has been loaded from 고구마_특(1등).pickle successfully.\n",
      "[12000]\n",
      "fuck\n"
     ]
    },
    {
     "name": "stderr",
     "output_type": "stream",
     "text": [
      "C:\\Users\\Sunwoo\\Anaconda3\\lib\\site-packages\\sklearn\\linear_model\\_logistic.py:444: ConvergenceWarning: lbfgs failed to converge (status=1):\n",
      "STOP: TOTAL NO. of ITERATIONS REACHED LIMIT.\n",
      "\n",
      "Increase the number of iterations (max_iter) or scale the data as shown in:\n",
      "    https://scikit-learn.org/stable/modules/preprocessing.html\n",
      "Please also refer to the documentation for alternative solver options:\n",
      "    https://scikit-learn.org/stable/modules/linear_model.html#logistic-regression\n",
      "  n_iter_i = _check_optimize_result(\n",
      "C:\\Users\\Sunwoo\\Anaconda3\\lib\\site-packages\\sklearn\\base.py:450: UserWarning: X does not have valid feature names, but LogisticRegression was fitted with feature names\n",
      "  warnings.warn(\n"
     ]
    }
   ],
   "source": [
    "def save_model(model, model_file):\n",
    "    try:\n",
    "        with open(model_file, 'wb') as file:\n",
    "            pickle.dump(model, file)\n",
    "        print(f\"The model has been saved to {model_file} successfully.\")\n",
    "    except Exception as e:\n",
    "        print(f\"An error occurred while saving the model to {model_file}. Error: {str(e)}\")\n",
    "        \n",
    "def load_model(model_file):\n",
    "    try:\n",
    "        with open(model_file, 'rb') as file:\n",
    "            model = pickle.load(file)\n",
    "        print(f\"The model has been loaded from {model_file} successfully.\")\n",
    "        return model\n",
    "    except Exception as e:\n",
    "        print(f\"An error occurred while loading the model from {model_file}. Error: {str(e)}\")\n",
    "        return None\n",
    "    \n",
    "def make_model(pummok = '고구마', grade = '특(1등)', path = 'data/df.csv'):\n",
    "    \n",
    "    df = pd.read_csv(path, index_col = 0)\n",
    "    df = df.query('PUMMOK == @pummok')\n",
    "    df = df.query('DDD == @grade')\n",
    "    \n",
    "    df['Y']=  df['ADJ_DT'].astype('str').str[:4].astype('int')\n",
    "    df['M']=  df['ADJ_DT'].astype('str').str[4:6].astype('int')\n",
    "    df['D']=  df['ADJ_DT'].astype('str').str[-2:].astype('int')\n",
    "    df['UUN']=  df['UUN'].str[:-2].astype('float')\n",
    "    df = df.drop(columns = ['ADJ_DT', 'DDD', 'PUMMOK'])\n",
    "    \n",
    "    y = df['PPRICE']\n",
    "    X = df.drop(columns = 'PPRICE')\n",
    "    \n",
    "    model = LogisticRegression()\n",
    "    model.fit(X, y)\n",
    "    save_model(model, f'{pummok}_{grade}.pickle')\n",
    "    \n",
    "    return X, y\n",
    "\n",
    "def predict_model(year, month, day, kg, model_name ='고구마_특(1등).pickle'):\n",
    "    model = load_model(model_name)\n",
    "    print(model.predict([[kg, year, month, day]]))\n",
    "\n",
    "\n",
    "if __name__ == \"__main__\":\n",
    "    make_model()\n",
    "    predict_model(2023, 12, 25, 10)\n",
    "    print('fuck')"
   ]
  },
  {
   "cell_type": "code",
   "execution_count": 76,
   "id": "7df7180a",
   "metadata": {},
   "outputs": [
    {
     "name": "stdout",
     "output_type": "stream",
     "text": [
      "The model has been saved to 고구마_특(1등).pickle successfully.\n",
      "The model has been loaded from 고구마_특(1등).pickle successfully.\n",
      "[12000]\n",
      "fuck\n"
     ]
    },
    {
     "name": "stderr",
     "output_type": "stream",
     "text": [
      "C:\\Users\\Sunwoo\\Anaconda3\\lib\\site-packages\\sklearn\\linear_model\\_logistic.py:444: ConvergenceWarning: lbfgs failed to converge (status=1):\n",
      "STOP: TOTAL NO. of ITERATIONS REACHED LIMIT.\n",
      "\n",
      "Increase the number of iterations (max_iter) or scale the data as shown in:\n",
      "    https://scikit-learn.org/stable/modules/preprocessing.html\n",
      "Please also refer to the documentation for alternative solver options:\n",
      "    https://scikit-learn.org/stable/modules/linear_model.html#logistic-regression\n",
      "  n_iter_i = _check_optimize_result(\n",
      "C:\\Users\\Sunwoo\\Anaconda3\\lib\\site-packages\\sklearn\\base.py:450: UserWarning: X does not have valid feature names, but LogisticRegression was fitted with feature names\n",
      "  warnings.warn(\n"
     ]
    }
   ],
   "source": [
    "preprocessing()\n",
    "predict_model(2023, 12, 25, 10)\n",
    "print('fuck')"
   ]
  }
 ],
 "metadata": {
  "kernelspec": {
   "display_name": "Python 3 (ipykernel)",
   "language": "python",
   "name": "python3"
  },
  "language_info": {
   "codemirror_mode": {
    "name": "ipython",
    "version": 3
   },
   "file_extension": ".py",
   "mimetype": "text/x-python",
   "name": "python",
   "nbconvert_exporter": "python",
   "pygments_lexer": "ipython3",
   "version": "3.9.12"
  }
 },
 "nbformat": 4,
 "nbformat_minor": 5
}
